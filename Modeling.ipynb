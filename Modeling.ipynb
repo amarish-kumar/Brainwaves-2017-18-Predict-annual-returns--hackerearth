{
 "cells": [
  {
   "cell_type": "code",
   "execution_count": 1,
   "metadata": {},
   "outputs": [
    {
     "name": "stderr",
     "output_type": "stream",
     "text": [
      "C:\\ProgramData\\Anaconda3\\lib\\site-packages\\sklearn\\cross_validation.py:41: DeprecationWarning: This module was deprecated in version 0.18 in favor of the model_selection module into which all the refactored classes and functions are moved. Also note that the interface of the new CV iterators are different from that of this module. This module will be removed in 0.20.\n",
      "  \"This module will be removed in 0.20.\", DeprecationWarning)\n"
     ]
    }
   ],
   "source": [
    "import pandas as pd\n",
    "import numpy as np\n",
    "import seaborn as sns\n",
    "from matplotlib import pyplot as plt\n",
    "from sklearn.ensemble import RandomForestRegressor\n",
    "from sklearn.metrics import r2_score\n",
    "from sklearn.cross_validation import train_test_split"
   ]
  },
  {
   "cell_type": "code",
   "execution_count": 2,
   "metadata": {
    "collapsed": true
   },
   "outputs": [],
   "source": [
    "pd.set_option('display.max_rows', 1500)\n",
    "pd.set_option('display.max_columns', 500)"
   ]
  },
  {
   "cell_type": "code",
   "execution_count": 83,
   "metadata": {
    "collapsed": true
   },
   "outputs": [],
   "source": [
    "train=pd.read_csv('../Data/cleaned_train_best.csv')\n",
    "test=pd.read_csv('../Data/cleaned_test_best.csv')"
   ]
  },
  {
   "cell_type": "code",
   "execution_count": 84,
   "metadata": {
    "collapsed": true
   },
   "outputs": [],
   "source": [
    "from sklearn.preprocessing import StandardScaler\n",
    "scaler = StandardScaler()"
   ]
  },
  {
   "cell_type": "code",
   "execution_count": 85,
   "metadata": {},
   "outputs": [
    {
     "data": {
      "text/html": [
       "<div>\n",
       "<style>\n",
       "    .dataframe thead tr:only-child th {\n",
       "        text-align: right;\n",
       "    }\n",
       "\n",
       "    .dataframe thead th {\n",
       "        text-align: left;\n",
       "    }\n",
       "\n",
       "    .dataframe tbody tr th {\n",
       "        vertical-align: top;\n",
       "    }\n",
       "</style>\n",
       "<table border=\"1\" class=\"dataframe\">\n",
       "  <thead>\n",
       "    <tr style=\"text-align: right;\">\n",
       "      <th></th>\n",
       "      <th>portfolio_id</th>\n",
       "      <th>sold</th>\n",
       "      <th>euribor_rate</th>\n",
       "      <th>libor_rate</th>\n",
       "      <th>bought</th>\n",
       "      <th>return</th>\n",
       "      <th>is_desk_id_missing</th>\n",
       "      <th>create-start_time</th>\n",
       "      <th>sell-start_time</th>\n",
       "      <th>sell-create_time</th>\n",
       "      <th>creation_month</th>\n",
       "      <th>creation_year</th>\n",
       "      <th>creation_day</th>\n",
       "      <th>start_month</th>\n",
       "      <th>start_year</th>\n",
       "      <th>start_day</th>\n",
       "      <th>sell_month</th>\n",
       "      <th>sell_year</th>\n",
       "      <th>sell_day</th>\n",
       "      <th>sell_is_month_end</th>\n",
       "      <th>sell_is_month_start</th>\n",
       "      <th>sell_is_quarter_end</th>\n",
       "      <th>sell_is_quarter_start</th>\n",
       "      <th>sell_is_year_start</th>\n",
       "      <th>sell_is_year_end</th>\n",
       "      <th>sell_week_of_year</th>\n",
       "      <th>sell_week_day</th>\n",
       "      <th>start_is_month_end</th>\n",
       "      <th>start_is_month_start</th>\n",
       "      <th>start_is_quarter_end</th>\n",
       "      <th>start_is_quarter_start</th>\n",
       "      <th>start_is_year_start</th>\n",
       "      <th>start_is_year_end</th>\n",
       "      <th>start_week_of_year</th>\n",
       "      <th>start_week_day</th>\n",
       "      <th>creation_is_month_end</th>\n",
       "      <th>creation_is_month_start</th>\n",
       "      <th>creation_is_quarter_end</th>\n",
       "      <th>creation_is_quarter_start</th>\n",
       "      <th>creation_is_year_start</th>\n",
       "      <th>creation_is_year_end</th>\n",
       "      <th>creation_week_of_year</th>\n",
       "      <th>creation_week_day</th>\n",
       "      <th>is_negative_euribor_rate</th>\n",
       "      <th>CHF</th>\n",
       "      <th>EUR</th>\n",
       "      <th>GBP</th>\n",
       "      <th>JPY</th>\n",
       "      <th>USD</th>\n",
       "      <th>is_negative_libor_rate_rate</th>\n",
       "      <th>is_hedge_missing</th>\n",
       "      <th>pf_category0</th>\n",
       "      <th>pf_category1</th>\n",
       "      <th>pf_category2</th>\n",
       "      <th>pf_category3</th>\n",
       "      <th>country_code0</th>\n",
       "      <th>country_code1</th>\n",
       "      <th>country_code2</th>\n",
       "      <th>country_code3</th>\n",
       "      <th>country_code4</th>\n",
       "      <th>office_id0</th>\n",
       "      <th>office_id1</th>\n",
       "      <th>indicator_code0</th>\n",
       "      <th>indicator_code1</th>\n",
       "      <th>type0</th>\n",
       "      <th>type1</th>\n",
       "      <th>type2</th>\n",
       "      <th>type3</th>\n",
       "      <th>type4</th>\n",
       "      <th>type5</th>\n",
       "      <th>type6</th>\n",
       "      <th>hedge_value0</th>\n",
       "      <th>hedge_value1</th>\n",
       "      <th>hedge_value2</th>\n",
       "      <th>status0</th>\n",
       "      <th>status1</th>\n",
       "    </tr>\n",
       "  </thead>\n",
       "  <tbody>\n",
       "    <tr>\n",
       "      <th>0</th>\n",
       "      <td>PF00001002</td>\n",
       "      <td>110000000.0</td>\n",
       "      <td>0.02074</td>\n",
       "      <td>2.332216</td>\n",
       "      <td>1.098097e+08</td>\n",
       "      <td>0.02496</td>\n",
       "      <td>0</td>\n",
       "      <td>0</td>\n",
       "      <td>-23</td>\n",
       "      <td>-23</td>\n",
       "      <td>7</td>\n",
       "      <td>2004</td>\n",
       "      <td>20</td>\n",
       "      <td>7</td>\n",
       "      <td>2004</td>\n",
       "      <td>20</td>\n",
       "      <td>8</td>\n",
       "      <td>2004</td>\n",
       "      <td>12</td>\n",
       "      <td>0</td>\n",
       "      <td>0</td>\n",
       "      <td>0</td>\n",
       "      <td>0</td>\n",
       "      <td>0</td>\n",
       "      <td>0</td>\n",
       "      <td>33</td>\n",
       "      <td>3</td>\n",
       "      <td>0</td>\n",
       "      <td>0</td>\n",
       "      <td>0</td>\n",
       "      <td>0</td>\n",
       "      <td>0</td>\n",
       "      <td>0</td>\n",
       "      <td>30</td>\n",
       "      <td>1</td>\n",
       "      <td>0</td>\n",
       "      <td>0</td>\n",
       "      <td>0</td>\n",
       "      <td>0</td>\n",
       "      <td>0</td>\n",
       "      <td>0</td>\n",
       "      <td>30</td>\n",
       "      <td>1</td>\n",
       "      <td>0</td>\n",
       "      <td>0</td>\n",
       "      <td>0</td>\n",
       "      <td>0</td>\n",
       "      <td>0</td>\n",
       "      <td>1</td>\n",
       "      <td>0</td>\n",
       "      <td>1</td>\n",
       "      <td>0</td>\n",
       "      <td>1</td>\n",
       "      <td>0</td>\n",
       "      <td>0</td>\n",
       "      <td>0</td>\n",
       "      <td>0</td>\n",
       "      <td>1</td>\n",
       "      <td>0</td>\n",
       "      <td>0</td>\n",
       "      <td>0</td>\n",
       "      <td>1</td>\n",
       "      <td>1</td>\n",
       "      <td>0</td>\n",
       "      <td>0</td>\n",
       "      <td>1</td>\n",
       "      <td>0</td>\n",
       "      <td>0</td>\n",
       "      <td>0</td>\n",
       "      <td>0</td>\n",
       "      <td>0</td>\n",
       "      <td>0</td>\n",
       "      <td>0</td>\n",
       "      <td>1</td>\n",
       "      <td>1</td>\n",
       "      <td>0</td>\n",
       "    </tr>\n",
       "    <tr>\n",
       "      <th>1</th>\n",
       "      <td>PF00001003</td>\n",
       "      <td>176671000.0</td>\n",
       "      <td>0.02074</td>\n",
       "      <td>5.269617</td>\n",
       "      <td>1.760084e+08</td>\n",
       "      <td>0.05496</td>\n",
       "      <td>0</td>\n",
       "      <td>-14</td>\n",
       "      <td>-34</td>\n",
       "      <td>-20</td>\n",
       "      <td>7</td>\n",
       "      <td>2004</td>\n",
       "      <td>23</td>\n",
       "      <td>7</td>\n",
       "      <td>2004</td>\n",
       "      <td>9</td>\n",
       "      <td>8</td>\n",
       "      <td>2004</td>\n",
       "      <td>12</td>\n",
       "      <td>0</td>\n",
       "      <td>0</td>\n",
       "      <td>0</td>\n",
       "      <td>0</td>\n",
       "      <td>0</td>\n",
       "      <td>0</td>\n",
       "      <td>33</td>\n",
       "      <td>3</td>\n",
       "      <td>0</td>\n",
       "      <td>0</td>\n",
       "      <td>0</td>\n",
       "      <td>0</td>\n",
       "      <td>0</td>\n",
       "      <td>0</td>\n",
       "      <td>28</td>\n",
       "      <td>4</td>\n",
       "      <td>0</td>\n",
       "      <td>0</td>\n",
       "      <td>0</td>\n",
       "      <td>0</td>\n",
       "      <td>0</td>\n",
       "      <td>0</td>\n",
       "      <td>30</td>\n",
       "      <td>4</td>\n",
       "      <td>0</td>\n",
       "      <td>0</td>\n",
       "      <td>0</td>\n",
       "      <td>1</td>\n",
       "      <td>0</td>\n",
       "      <td>0</td>\n",
       "      <td>0</td>\n",
       "      <td>1</td>\n",
       "      <td>1</td>\n",
       "      <td>0</td>\n",
       "      <td>0</td>\n",
       "      <td>0</td>\n",
       "      <td>0</td>\n",
       "      <td>1</td>\n",
       "      <td>0</td>\n",
       "      <td>0</td>\n",
       "      <td>0</td>\n",
       "      <td>1</td>\n",
       "      <td>0</td>\n",
       "      <td>1</td>\n",
       "      <td>0</td>\n",
       "      <td>0</td>\n",
       "      <td>0</td>\n",
       "      <td>1</td>\n",
       "      <td>0</td>\n",
       "      <td>0</td>\n",
       "      <td>0</td>\n",
       "      <td>0</td>\n",
       "      <td>0</td>\n",
       "      <td>0</td>\n",
       "      <td>1</td>\n",
       "      <td>1</td>\n",
       "      <td>0</td>\n",
       "    </tr>\n",
       "    <tr>\n",
       "      <th>2</th>\n",
       "      <td>PF00001005</td>\n",
       "      <td>56474000.0</td>\n",
       "      <td>0.02074</td>\n",
       "      <td>2.332216</td>\n",
       "      <td>5.637953e+07</td>\n",
       "      <td>0.02496</td>\n",
       "      <td>0</td>\n",
       "      <td>0</td>\n",
       "      <td>-25</td>\n",
       "      <td>-25</td>\n",
       "      <td>7</td>\n",
       "      <td>2004</td>\n",
       "      <td>23</td>\n",
       "      <td>7</td>\n",
       "      <td>2004</td>\n",
       "      <td>23</td>\n",
       "      <td>8</td>\n",
       "      <td>2004</td>\n",
       "      <td>17</td>\n",
       "      <td>0</td>\n",
       "      <td>0</td>\n",
       "      <td>0</td>\n",
       "      <td>0</td>\n",
       "      <td>0</td>\n",
       "      <td>0</td>\n",
       "      <td>34</td>\n",
       "      <td>1</td>\n",
       "      <td>0</td>\n",
       "      <td>0</td>\n",
       "      <td>0</td>\n",
       "      <td>0</td>\n",
       "      <td>0</td>\n",
       "      <td>0</td>\n",
       "      <td>30</td>\n",
       "      <td>4</td>\n",
       "      <td>0</td>\n",
       "      <td>0</td>\n",
       "      <td>0</td>\n",
       "      <td>0</td>\n",
       "      <td>0</td>\n",
       "      <td>0</td>\n",
       "      <td>30</td>\n",
       "      <td>4</td>\n",
       "      <td>0</td>\n",
       "      <td>0</td>\n",
       "      <td>0</td>\n",
       "      <td>0</td>\n",
       "      <td>0</td>\n",
       "      <td>1</td>\n",
       "      <td>0</td>\n",
       "      <td>1</td>\n",
       "      <td>1</td>\n",
       "      <td>0</td>\n",
       "      <td>0</td>\n",
       "      <td>0</td>\n",
       "      <td>0</td>\n",
       "      <td>0</td>\n",
       "      <td>1</td>\n",
       "      <td>0</td>\n",
       "      <td>0</td>\n",
       "      <td>1</td>\n",
       "      <td>0</td>\n",
       "      <td>1</td>\n",
       "      <td>0</td>\n",
       "      <td>1</td>\n",
       "      <td>0</td>\n",
       "      <td>0</td>\n",
       "      <td>0</td>\n",
       "      <td>0</td>\n",
       "      <td>0</td>\n",
       "      <td>0</td>\n",
       "      <td>0</td>\n",
       "      <td>0</td>\n",
       "      <td>1</td>\n",
       "      <td>1</td>\n",
       "      <td>0</td>\n",
       "    </tr>\n",
       "    <tr>\n",
       "      <th>3</th>\n",
       "      <td>PF00001006</td>\n",
       "      <td>164813000.0</td>\n",
       "      <td>0.02074</td>\n",
       "      <td>2.332216</td>\n",
       "      <td>1.645088e+08</td>\n",
       "      <td>0.02496</td>\n",
       "      <td>0</td>\n",
       "      <td>-44</td>\n",
       "      <td>-34</td>\n",
       "      <td>10</td>\n",
       "      <td>7</td>\n",
       "      <td>2004</td>\n",
       "      <td>23</td>\n",
       "      <td>6</td>\n",
       "      <td>2004</td>\n",
       "      <td>9</td>\n",
       "      <td>7</td>\n",
       "      <td>2004</td>\n",
       "      <td>13</td>\n",
       "      <td>0</td>\n",
       "      <td>0</td>\n",
       "      <td>0</td>\n",
       "      <td>0</td>\n",
       "      <td>0</td>\n",
       "      <td>0</td>\n",
       "      <td>29</td>\n",
       "      <td>1</td>\n",
       "      <td>0</td>\n",
       "      <td>0</td>\n",
       "      <td>0</td>\n",
       "      <td>0</td>\n",
       "      <td>0</td>\n",
       "      <td>0</td>\n",
       "      <td>24</td>\n",
       "      <td>2</td>\n",
       "      <td>0</td>\n",
       "      <td>0</td>\n",
       "      <td>0</td>\n",
       "      <td>0</td>\n",
       "      <td>0</td>\n",
       "      <td>0</td>\n",
       "      <td>30</td>\n",
       "      <td>4</td>\n",
       "      <td>0</td>\n",
       "      <td>0</td>\n",
       "      <td>0</td>\n",
       "      <td>0</td>\n",
       "      <td>0</td>\n",
       "      <td>1</td>\n",
       "      <td>0</td>\n",
       "      <td>1</td>\n",
       "      <td>1</td>\n",
       "      <td>0</td>\n",
       "      <td>0</td>\n",
       "      <td>0</td>\n",
       "      <td>0</td>\n",
       "      <td>0</td>\n",
       "      <td>1</td>\n",
       "      <td>0</td>\n",
       "      <td>0</td>\n",
       "      <td>1</td>\n",
       "      <td>0</td>\n",
       "      <td>1</td>\n",
       "      <td>0</td>\n",
       "      <td>1</td>\n",
       "      <td>0</td>\n",
       "      <td>0</td>\n",
       "      <td>0</td>\n",
       "      <td>0</td>\n",
       "      <td>0</td>\n",
       "      <td>0</td>\n",
       "      <td>0</td>\n",
       "      <td>0</td>\n",
       "      <td>1</td>\n",
       "      <td>1</td>\n",
       "      <td>0</td>\n",
       "    </tr>\n",
       "    <tr>\n",
       "      <th>4</th>\n",
       "      <td>PF00001007</td>\n",
       "      <td>140800000.0</td>\n",
       "      <td>0.02074</td>\n",
       "      <td>2.332216</td>\n",
       "      <td>1.405402e+08</td>\n",
       "      <td>0.02496</td>\n",
       "      <td>0</td>\n",
       "      <td>-44</td>\n",
       "      <td>-34</td>\n",
       "      <td>10</td>\n",
       "      <td>7</td>\n",
       "      <td>2004</td>\n",
       "      <td>23</td>\n",
       "      <td>6</td>\n",
       "      <td>2004</td>\n",
       "      <td>9</td>\n",
       "      <td>7</td>\n",
       "      <td>2004</td>\n",
       "      <td>13</td>\n",
       "      <td>0</td>\n",
       "      <td>0</td>\n",
       "      <td>0</td>\n",
       "      <td>0</td>\n",
       "      <td>0</td>\n",
       "      <td>0</td>\n",
       "      <td>29</td>\n",
       "      <td>1</td>\n",
       "      <td>0</td>\n",
       "      <td>0</td>\n",
       "      <td>0</td>\n",
       "      <td>0</td>\n",
       "      <td>0</td>\n",
       "      <td>0</td>\n",
       "      <td>24</td>\n",
       "      <td>2</td>\n",
       "      <td>0</td>\n",
       "      <td>0</td>\n",
       "      <td>0</td>\n",
       "      <td>0</td>\n",
       "      <td>0</td>\n",
       "      <td>0</td>\n",
       "      <td>30</td>\n",
       "      <td>4</td>\n",
       "      <td>0</td>\n",
       "      <td>0</td>\n",
       "      <td>0</td>\n",
       "      <td>0</td>\n",
       "      <td>0</td>\n",
       "      <td>1</td>\n",
       "      <td>0</td>\n",
       "      <td>1</td>\n",
       "      <td>0</td>\n",
       "      <td>1</td>\n",
       "      <td>0</td>\n",
       "      <td>0</td>\n",
       "      <td>0</td>\n",
       "      <td>0</td>\n",
       "      <td>1</td>\n",
       "      <td>0</td>\n",
       "      <td>0</td>\n",
       "      <td>0</td>\n",
       "      <td>1</td>\n",
       "      <td>1</td>\n",
       "      <td>0</td>\n",
       "      <td>0</td>\n",
       "      <td>1</td>\n",
       "      <td>0</td>\n",
       "      <td>0</td>\n",
       "      <td>0</td>\n",
       "      <td>0</td>\n",
       "      <td>0</td>\n",
       "      <td>0</td>\n",
       "      <td>0</td>\n",
       "      <td>1</td>\n",
       "      <td>1</td>\n",
       "      <td>0</td>\n",
       "    </tr>\n",
       "  </tbody>\n",
       "</table>\n",
       "</div>"
      ],
      "text/plain": [
       "  portfolio_id         sold  euribor_rate  libor_rate        bought   return  \\\n",
       "0   PF00001002  110000000.0       0.02074    2.332216  1.098097e+08  0.02496   \n",
       "1   PF00001003  176671000.0       0.02074    5.269617  1.760084e+08  0.05496   \n",
       "2   PF00001005   56474000.0       0.02074    2.332216  5.637953e+07  0.02496   \n",
       "3   PF00001006  164813000.0       0.02074    2.332216  1.645088e+08  0.02496   \n",
       "4   PF00001007  140800000.0       0.02074    2.332216  1.405402e+08  0.02496   \n",
       "\n",
       "   is_desk_id_missing  create-start_time  sell-start_time  sell-create_time  \\\n",
       "0                   0                  0              -23               -23   \n",
       "1                   0                -14              -34               -20   \n",
       "2                   0                  0              -25               -25   \n",
       "3                   0                -44              -34                10   \n",
       "4                   0                -44              -34                10   \n",
       "\n",
       "   creation_month  creation_year  creation_day  start_month  start_year  \\\n",
       "0               7           2004            20            7        2004   \n",
       "1               7           2004            23            7        2004   \n",
       "2               7           2004            23            7        2004   \n",
       "3               7           2004            23            6        2004   \n",
       "4               7           2004            23            6        2004   \n",
       "\n",
       "   start_day  sell_month  sell_year  sell_day  sell_is_month_end  \\\n",
       "0         20           8       2004        12                  0   \n",
       "1          9           8       2004        12                  0   \n",
       "2         23           8       2004        17                  0   \n",
       "3          9           7       2004        13                  0   \n",
       "4          9           7       2004        13                  0   \n",
       "\n",
       "   sell_is_month_start  sell_is_quarter_end  sell_is_quarter_start  \\\n",
       "0                    0                    0                      0   \n",
       "1                    0                    0                      0   \n",
       "2                    0                    0                      0   \n",
       "3                    0                    0                      0   \n",
       "4                    0                    0                      0   \n",
       "\n",
       "   sell_is_year_start  sell_is_year_end  sell_week_of_year  sell_week_day  \\\n",
       "0                   0                 0                 33              3   \n",
       "1                   0                 0                 33              3   \n",
       "2                   0                 0                 34              1   \n",
       "3                   0                 0                 29              1   \n",
       "4                   0                 0                 29              1   \n",
       "\n",
       "   start_is_month_end  start_is_month_start  start_is_quarter_end  \\\n",
       "0                   0                     0                     0   \n",
       "1                   0                     0                     0   \n",
       "2                   0                     0                     0   \n",
       "3                   0                     0                     0   \n",
       "4                   0                     0                     0   \n",
       "\n",
       "   start_is_quarter_start  start_is_year_start  start_is_year_end  \\\n",
       "0                       0                    0                  0   \n",
       "1                       0                    0                  0   \n",
       "2                       0                    0                  0   \n",
       "3                       0                    0                  0   \n",
       "4                       0                    0                  0   \n",
       "\n",
       "   start_week_of_year  start_week_day  creation_is_month_end  \\\n",
       "0                  30               1                      0   \n",
       "1                  28               4                      0   \n",
       "2                  30               4                      0   \n",
       "3                  24               2                      0   \n",
       "4                  24               2                      0   \n",
       "\n",
       "   creation_is_month_start  creation_is_quarter_end  \\\n",
       "0                        0                        0   \n",
       "1                        0                        0   \n",
       "2                        0                        0   \n",
       "3                        0                        0   \n",
       "4                        0                        0   \n",
       "\n",
       "   creation_is_quarter_start  creation_is_year_start  creation_is_year_end  \\\n",
       "0                          0                       0                     0   \n",
       "1                          0                       0                     0   \n",
       "2                          0                       0                     0   \n",
       "3                          0                       0                     0   \n",
       "4                          0                       0                     0   \n",
       "\n",
       "   creation_week_of_year  creation_week_day  is_negative_euribor_rate  CHF  \\\n",
       "0                     30                  1                         0    0   \n",
       "1                     30                  4                         0    0   \n",
       "2                     30                  4                         0    0   \n",
       "3                     30                  4                         0    0   \n",
       "4                     30                  4                         0    0   \n",
       "\n",
       "   EUR  GBP  JPY  USD  is_negative_libor_rate_rate  is_hedge_missing  \\\n",
       "0    0    0    0    1                            0                 1   \n",
       "1    0    1    0    0                            0                 1   \n",
       "2    0    0    0    1                            0                 1   \n",
       "3    0    0    0    1                            0                 1   \n",
       "4    0    0    0    1                            0                 1   \n",
       "\n",
       "   pf_category0  pf_category1  pf_category2  pf_category3  country_code0  \\\n",
       "0             0             1             0             0              0   \n",
       "1             1             0             0             0              0   \n",
       "2             1             0             0             0              0   \n",
       "3             1             0             0             0              0   \n",
       "4             0             1             0             0              0   \n",
       "\n",
       "   country_code1  country_code2  country_code3  country_code4  office_id0  \\\n",
       "0              0              1              0              0           0   \n",
       "1              1              0              0              0           1   \n",
       "2              0              1              0              0           1   \n",
       "3              0              1              0              0           1   \n",
       "4              0              1              0              0           0   \n",
       "\n",
       "   office_id1  indicator_code0  indicator_code1  type0  type1  type2  type3  \\\n",
       "0           1                1                0      0      1      0      0   \n",
       "1           0                1                0      0      0      1      0   \n",
       "2           0                1                0      1      0      0      0   \n",
       "3           0                1                0      1      0      0      0   \n",
       "4           1                1                0      0      1      0      0   \n",
       "\n",
       "   type4  type5  type6  hedge_value0  hedge_value1  hedge_value2  status0  \\\n",
       "0      0      0      0             0             0             1        1   \n",
       "1      0      0      0             0             0             1        1   \n",
       "2      0      0      0             0             0             1        1   \n",
       "3      0      0      0             0             0             1        1   \n",
       "4      0      0      0             0             0             1        1   \n",
       "\n",
       "   status1  \n",
       "0        0  \n",
       "1        0  \n",
       "2        0  \n",
       "3        0  \n",
       "4        0  "
      ]
     },
     "execution_count": 85,
     "metadata": {},
     "output_type": "execute_result"
    }
   ],
   "source": [
    "train.head()"
   ]
  },
  {
   "cell_type": "code",
   "execution_count": 86,
   "metadata": {},
   "outputs": [
    {
     "data": {
      "text/html": [
       "<div>\n",
       "<style>\n",
       "    .dataframe thead tr:only-child th {\n",
       "        text-align: right;\n",
       "    }\n",
       "\n",
       "    .dataframe thead th {\n",
       "        text-align: left;\n",
       "    }\n",
       "\n",
       "    .dataframe tbody tr th {\n",
       "        vertical-align: top;\n",
       "    }\n",
       "</style>\n",
       "<table border=\"1\" class=\"dataframe\">\n",
       "  <thead>\n",
       "    <tr style=\"text-align: right;\">\n",
       "      <th></th>\n",
       "      <th>portfolio_id</th>\n",
       "      <th>sold</th>\n",
       "      <th>euribor_rate</th>\n",
       "      <th>libor_rate</th>\n",
       "      <th>bought</th>\n",
       "      <th>is_desk_id_missing</th>\n",
       "      <th>create-start_time</th>\n",
       "      <th>sell-start_time</th>\n",
       "      <th>sell-create_time</th>\n",
       "      <th>creation_month</th>\n",
       "      <th>creation_year</th>\n",
       "      <th>creation_day</th>\n",
       "      <th>start_month</th>\n",
       "      <th>start_year</th>\n",
       "      <th>start_day</th>\n",
       "      <th>sell_month</th>\n",
       "      <th>sell_year</th>\n",
       "      <th>sell_day</th>\n",
       "      <th>sell_is_month_end</th>\n",
       "      <th>sell_is_month_start</th>\n",
       "      <th>sell_is_quarter_end</th>\n",
       "      <th>sell_is_quarter_start</th>\n",
       "      <th>sell_is_year_start</th>\n",
       "      <th>sell_is_year_end</th>\n",
       "      <th>sell_week_of_year</th>\n",
       "      <th>sell_week_day</th>\n",
       "      <th>start_is_month_end</th>\n",
       "      <th>start_is_month_start</th>\n",
       "      <th>start_is_quarter_end</th>\n",
       "      <th>start_is_quarter_start</th>\n",
       "      <th>start_is_year_start</th>\n",
       "      <th>start_is_year_end</th>\n",
       "      <th>start_week_of_year</th>\n",
       "      <th>start_week_day</th>\n",
       "      <th>creation_is_month_end</th>\n",
       "      <th>creation_is_month_start</th>\n",
       "      <th>creation_is_quarter_end</th>\n",
       "      <th>creation_is_quarter_start</th>\n",
       "      <th>creation_is_year_start</th>\n",
       "      <th>creation_is_year_end</th>\n",
       "      <th>creation_week_of_year</th>\n",
       "      <th>creation_week_day</th>\n",
       "      <th>is_negative_euribor_rate</th>\n",
       "      <th>CHF</th>\n",
       "      <th>EUR</th>\n",
       "      <th>GBP</th>\n",
       "      <th>JPY</th>\n",
       "      <th>USD</th>\n",
       "      <th>is_negative_libor_rate_rate</th>\n",
       "      <th>is_hedge_missing</th>\n",
       "      <th>pf_category0</th>\n",
       "      <th>pf_category1</th>\n",
       "      <th>pf_category2</th>\n",
       "      <th>pf_category3</th>\n",
       "      <th>country_code0</th>\n",
       "      <th>country_code1</th>\n",
       "      <th>country_code2</th>\n",
       "      <th>country_code3</th>\n",
       "      <th>country_code4</th>\n",
       "      <th>office_id0</th>\n",
       "      <th>office_id1</th>\n",
       "      <th>indicator_code0</th>\n",
       "      <th>indicator_code1</th>\n",
       "      <th>type0</th>\n",
       "      <th>type1</th>\n",
       "      <th>type2</th>\n",
       "      <th>type3</th>\n",
       "      <th>type4</th>\n",
       "      <th>type5</th>\n",
       "      <th>type6</th>\n",
       "      <th>hedge_value0</th>\n",
       "      <th>hedge_value1</th>\n",
       "      <th>hedge_value2</th>\n",
       "      <th>status0</th>\n",
       "      <th>status1</th>\n",
       "    </tr>\n",
       "  </thead>\n",
       "  <tbody>\n",
       "    <tr>\n",
       "      <th>0</th>\n",
       "      <td>PF00001001</td>\n",
       "      <td>171831000.0</td>\n",
       "      <td>0.02074</td>\n",
       "      <td>2.332216</td>\n",
       "      <td>1.715337e+08</td>\n",
       "      <td>0</td>\n",
       "      <td>0</td>\n",
       "      <td>-23</td>\n",
       "      <td>-23</td>\n",
       "      <td>7</td>\n",
       "      <td>2004</td>\n",
       "      <td>20</td>\n",
       "      <td>7</td>\n",
       "      <td>2004</td>\n",
       "      <td>20</td>\n",
       "      <td>8</td>\n",
       "      <td>2004</td>\n",
       "      <td>12</td>\n",
       "      <td>0</td>\n",
       "      <td>0</td>\n",
       "      <td>0</td>\n",
       "      <td>0</td>\n",
       "      <td>0</td>\n",
       "      <td>0</td>\n",
       "      <td>33</td>\n",
       "      <td>3</td>\n",
       "      <td>0</td>\n",
       "      <td>0</td>\n",
       "      <td>0</td>\n",
       "      <td>0</td>\n",
       "      <td>0</td>\n",
       "      <td>0</td>\n",
       "      <td>30</td>\n",
       "      <td>1</td>\n",
       "      <td>0</td>\n",
       "      <td>0</td>\n",
       "      <td>0</td>\n",
       "      <td>0</td>\n",
       "      <td>0</td>\n",
       "      <td>0</td>\n",
       "      <td>30</td>\n",
       "      <td>1</td>\n",
       "      <td>0</td>\n",
       "      <td>0</td>\n",
       "      <td>0</td>\n",
       "      <td>0</td>\n",
       "      <td>0</td>\n",
       "      <td>1</td>\n",
       "      <td>0</td>\n",
       "      <td>1</td>\n",
       "      <td>1</td>\n",
       "      <td>0</td>\n",
       "      <td>0</td>\n",
       "      <td>0</td>\n",
       "      <td>0</td>\n",
       "      <td>0</td>\n",
       "      <td>1</td>\n",
       "      <td>0</td>\n",
       "      <td>0</td>\n",
       "      <td>1</td>\n",
       "      <td>0</td>\n",
       "      <td>1</td>\n",
       "      <td>0</td>\n",
       "      <td>1</td>\n",
       "      <td>0</td>\n",
       "      <td>0</td>\n",
       "      <td>0</td>\n",
       "      <td>0</td>\n",
       "      <td>0</td>\n",
       "      <td>0</td>\n",
       "      <td>0</td>\n",
       "      <td>0</td>\n",
       "      <td>1</td>\n",
       "      <td>1</td>\n",
       "      <td>0</td>\n",
       "    </tr>\n",
       "    <tr>\n",
       "      <th>1</th>\n",
       "      <td>PF00001004</td>\n",
       "      <td>56485000.0</td>\n",
       "      <td>0.02074</td>\n",
       "      <td>2.332216</td>\n",
       "      <td>5.638038e+07</td>\n",
       "      <td>0</td>\n",
       "      <td>0</td>\n",
       "      <td>4</td>\n",
       "      <td>4</td>\n",
       "      <td>7</td>\n",
       "      <td>2004</td>\n",
       "      <td>23</td>\n",
       "      <td>7</td>\n",
       "      <td>2004</td>\n",
       "      <td>23</td>\n",
       "      <td>7</td>\n",
       "      <td>2004</td>\n",
       "      <td>19</td>\n",
       "      <td>0</td>\n",
       "      <td>0</td>\n",
       "      <td>0</td>\n",
       "      <td>0</td>\n",
       "      <td>0</td>\n",
       "      <td>0</td>\n",
       "      <td>30</td>\n",
       "      <td>0</td>\n",
       "      <td>0</td>\n",
       "      <td>0</td>\n",
       "      <td>0</td>\n",
       "      <td>0</td>\n",
       "      <td>0</td>\n",
       "      <td>0</td>\n",
       "      <td>30</td>\n",
       "      <td>4</td>\n",
       "      <td>0</td>\n",
       "      <td>0</td>\n",
       "      <td>0</td>\n",
       "      <td>0</td>\n",
       "      <td>0</td>\n",
       "      <td>0</td>\n",
       "      <td>30</td>\n",
       "      <td>4</td>\n",
       "      <td>0</td>\n",
       "      <td>0</td>\n",
       "      <td>0</td>\n",
       "      <td>0</td>\n",
       "      <td>0</td>\n",
       "      <td>1</td>\n",
       "      <td>0</td>\n",
       "      <td>1</td>\n",
       "      <td>0</td>\n",
       "      <td>1</td>\n",
       "      <td>0</td>\n",
       "      <td>0</td>\n",
       "      <td>0</td>\n",
       "      <td>0</td>\n",
       "      <td>1</td>\n",
       "      <td>0</td>\n",
       "      <td>0</td>\n",
       "      <td>0</td>\n",
       "      <td>1</td>\n",
       "      <td>1</td>\n",
       "      <td>0</td>\n",
       "      <td>0</td>\n",
       "      <td>1</td>\n",
       "      <td>0</td>\n",
       "      <td>0</td>\n",
       "      <td>0</td>\n",
       "      <td>0</td>\n",
       "      <td>0</td>\n",
       "      <td>0</td>\n",
       "      <td>0</td>\n",
       "      <td>1</td>\n",
       "      <td>1</td>\n",
       "      <td>0</td>\n",
       "    </tr>\n",
       "    <tr>\n",
       "      <th>2</th>\n",
       "      <td>PF00001009</td>\n",
       "      <td>41734000.0</td>\n",
       "      <td>0.02074</td>\n",
       "      <td>2.332216</td>\n",
       "      <td>4.166179e+07</td>\n",
       "      <td>0</td>\n",
       "      <td>-49</td>\n",
       "      <td>-32</td>\n",
       "      <td>17</td>\n",
       "      <td>7</td>\n",
       "      <td>2004</td>\n",
       "      <td>26</td>\n",
       "      <td>6</td>\n",
       "      <td>2004</td>\n",
       "      <td>7</td>\n",
       "      <td>7</td>\n",
       "      <td>2004</td>\n",
       "      <td>9</td>\n",
       "      <td>0</td>\n",
       "      <td>0</td>\n",
       "      <td>0</td>\n",
       "      <td>0</td>\n",
       "      <td>0</td>\n",
       "      <td>0</td>\n",
       "      <td>28</td>\n",
       "      <td>4</td>\n",
       "      <td>0</td>\n",
       "      <td>0</td>\n",
       "      <td>0</td>\n",
       "      <td>0</td>\n",
       "      <td>0</td>\n",
       "      <td>0</td>\n",
       "      <td>24</td>\n",
       "      <td>0</td>\n",
       "      <td>0</td>\n",
       "      <td>0</td>\n",
       "      <td>0</td>\n",
       "      <td>0</td>\n",
       "      <td>0</td>\n",
       "      <td>0</td>\n",
       "      <td>31</td>\n",
       "      <td>0</td>\n",
       "      <td>0</td>\n",
       "      <td>0</td>\n",
       "      <td>0</td>\n",
       "      <td>0</td>\n",
       "      <td>0</td>\n",
       "      <td>1</td>\n",
       "      <td>0</td>\n",
       "      <td>1</td>\n",
       "      <td>1</td>\n",
       "      <td>0</td>\n",
       "      <td>0</td>\n",
       "      <td>0</td>\n",
       "      <td>0</td>\n",
       "      <td>0</td>\n",
       "      <td>1</td>\n",
       "      <td>0</td>\n",
       "      <td>0</td>\n",
       "      <td>1</td>\n",
       "      <td>0</td>\n",
       "      <td>1</td>\n",
       "      <td>0</td>\n",
       "      <td>1</td>\n",
       "      <td>0</td>\n",
       "      <td>0</td>\n",
       "      <td>0</td>\n",
       "      <td>0</td>\n",
       "      <td>0</td>\n",
       "      <td>0</td>\n",
       "      <td>0</td>\n",
       "      <td>0</td>\n",
       "      <td>1</td>\n",
       "      <td>1</td>\n",
       "      <td>0</td>\n",
       "    </tr>\n",
       "    <tr>\n",
       "      <th>3</th>\n",
       "      <td>PF00001013</td>\n",
       "      <td>82951000.0</td>\n",
       "      <td>0.02074</td>\n",
       "      <td>2.332216</td>\n",
       "      <td>8.250936e+07</td>\n",
       "      <td>0</td>\n",
       "      <td>-10</td>\n",
       "      <td>-95</td>\n",
       "      <td>-85</td>\n",
       "      <td>7</td>\n",
       "      <td>2004</td>\n",
       "      <td>26</td>\n",
       "      <td>7</td>\n",
       "      <td>2004</td>\n",
       "      <td>16</td>\n",
       "      <td>10</td>\n",
       "      <td>2004</td>\n",
       "      <td>19</td>\n",
       "      <td>0</td>\n",
       "      <td>0</td>\n",
       "      <td>0</td>\n",
       "      <td>0</td>\n",
       "      <td>0</td>\n",
       "      <td>0</td>\n",
       "      <td>43</td>\n",
       "      <td>1</td>\n",
       "      <td>0</td>\n",
       "      <td>0</td>\n",
       "      <td>0</td>\n",
       "      <td>0</td>\n",
       "      <td>0</td>\n",
       "      <td>0</td>\n",
       "      <td>29</td>\n",
       "      <td>4</td>\n",
       "      <td>0</td>\n",
       "      <td>0</td>\n",
       "      <td>0</td>\n",
       "      <td>0</td>\n",
       "      <td>0</td>\n",
       "      <td>0</td>\n",
       "      <td>31</td>\n",
       "      <td>0</td>\n",
       "      <td>0</td>\n",
       "      <td>0</td>\n",
       "      <td>0</td>\n",
       "      <td>0</td>\n",
       "      <td>0</td>\n",
       "      <td>1</td>\n",
       "      <td>0</td>\n",
       "      <td>1</td>\n",
       "      <td>1</td>\n",
       "      <td>0</td>\n",
       "      <td>0</td>\n",
       "      <td>0</td>\n",
       "      <td>0</td>\n",
       "      <td>0</td>\n",
       "      <td>1</td>\n",
       "      <td>0</td>\n",
       "      <td>0</td>\n",
       "      <td>1</td>\n",
       "      <td>0</td>\n",
       "      <td>1</td>\n",
       "      <td>0</td>\n",
       "      <td>1</td>\n",
       "      <td>0</td>\n",
       "      <td>0</td>\n",
       "      <td>0</td>\n",
       "      <td>0</td>\n",
       "      <td>0</td>\n",
       "      <td>0</td>\n",
       "      <td>0</td>\n",
       "      <td>0</td>\n",
       "      <td>1</td>\n",
       "      <td>1</td>\n",
       "      <td>0</td>\n",
       "    </tr>\n",
       "    <tr>\n",
       "      <th>4</th>\n",
       "      <td>PF00001014</td>\n",
       "      <td>73293000.0</td>\n",
       "      <td>0.02074</td>\n",
       "      <td>2.332216</td>\n",
       "      <td>7.317055e+07</td>\n",
       "      <td>0</td>\n",
       "      <td>-13</td>\n",
       "      <td>-31</td>\n",
       "      <td>-18</td>\n",
       "      <td>7</td>\n",
       "      <td>2004</td>\n",
       "      <td>26</td>\n",
       "      <td>7</td>\n",
       "      <td>2004</td>\n",
       "      <td>13</td>\n",
       "      <td>8</td>\n",
       "      <td>2004</td>\n",
       "      <td>13</td>\n",
       "      <td>0</td>\n",
       "      <td>0</td>\n",
       "      <td>0</td>\n",
       "      <td>0</td>\n",
       "      <td>0</td>\n",
       "      <td>0</td>\n",
       "      <td>33</td>\n",
       "      <td>4</td>\n",
       "      <td>0</td>\n",
       "      <td>0</td>\n",
       "      <td>0</td>\n",
       "      <td>0</td>\n",
       "      <td>0</td>\n",
       "      <td>0</td>\n",
       "      <td>29</td>\n",
       "      <td>1</td>\n",
       "      <td>0</td>\n",
       "      <td>0</td>\n",
       "      <td>0</td>\n",
       "      <td>0</td>\n",
       "      <td>0</td>\n",
       "      <td>0</td>\n",
       "      <td>31</td>\n",
       "      <td>0</td>\n",
       "      <td>0</td>\n",
       "      <td>0</td>\n",
       "      <td>0</td>\n",
       "      <td>0</td>\n",
       "      <td>0</td>\n",
       "      <td>1</td>\n",
       "      <td>0</td>\n",
       "      <td>1</td>\n",
       "      <td>1</td>\n",
       "      <td>0</td>\n",
       "      <td>0</td>\n",
       "      <td>0</td>\n",
       "      <td>0</td>\n",
       "      <td>0</td>\n",
       "      <td>1</td>\n",
       "      <td>0</td>\n",
       "      <td>0</td>\n",
       "      <td>1</td>\n",
       "      <td>0</td>\n",
       "      <td>1</td>\n",
       "      <td>0</td>\n",
       "      <td>1</td>\n",
       "      <td>0</td>\n",
       "      <td>0</td>\n",
       "      <td>0</td>\n",
       "      <td>0</td>\n",
       "      <td>0</td>\n",
       "      <td>0</td>\n",
       "      <td>0</td>\n",
       "      <td>0</td>\n",
       "      <td>1</td>\n",
       "      <td>1</td>\n",
       "      <td>0</td>\n",
       "    </tr>\n",
       "  </tbody>\n",
       "</table>\n",
       "</div>"
      ],
      "text/plain": [
       "  portfolio_id         sold  euribor_rate  libor_rate        bought  \\\n",
       "0   PF00001001  171831000.0       0.02074    2.332216  1.715337e+08   \n",
       "1   PF00001004   56485000.0       0.02074    2.332216  5.638038e+07   \n",
       "2   PF00001009   41734000.0       0.02074    2.332216  4.166179e+07   \n",
       "3   PF00001013   82951000.0       0.02074    2.332216  8.250936e+07   \n",
       "4   PF00001014   73293000.0       0.02074    2.332216  7.317055e+07   \n",
       "\n",
       "   is_desk_id_missing  create-start_time  sell-start_time  sell-create_time  \\\n",
       "0                   0                  0              -23               -23   \n",
       "1                   0                  0                4                 4   \n",
       "2                   0                -49              -32                17   \n",
       "3                   0                -10              -95               -85   \n",
       "4                   0                -13              -31               -18   \n",
       "\n",
       "   creation_month  creation_year  creation_day  start_month  start_year  \\\n",
       "0               7           2004            20            7        2004   \n",
       "1               7           2004            23            7        2004   \n",
       "2               7           2004            26            6        2004   \n",
       "3               7           2004            26            7        2004   \n",
       "4               7           2004            26            7        2004   \n",
       "\n",
       "   start_day  sell_month  sell_year  sell_day  sell_is_month_end  \\\n",
       "0         20           8       2004        12                  0   \n",
       "1         23           7       2004        19                  0   \n",
       "2          7           7       2004         9                  0   \n",
       "3         16          10       2004        19                  0   \n",
       "4         13           8       2004        13                  0   \n",
       "\n",
       "   sell_is_month_start  sell_is_quarter_end  sell_is_quarter_start  \\\n",
       "0                    0                    0                      0   \n",
       "1                    0                    0                      0   \n",
       "2                    0                    0                      0   \n",
       "3                    0                    0                      0   \n",
       "4                    0                    0                      0   \n",
       "\n",
       "   sell_is_year_start  sell_is_year_end  sell_week_of_year  sell_week_day  \\\n",
       "0                   0                 0                 33              3   \n",
       "1                   0                 0                 30              0   \n",
       "2                   0                 0                 28              4   \n",
       "3                   0                 0                 43              1   \n",
       "4                   0                 0                 33              4   \n",
       "\n",
       "   start_is_month_end  start_is_month_start  start_is_quarter_end  \\\n",
       "0                   0                     0                     0   \n",
       "1                   0                     0                     0   \n",
       "2                   0                     0                     0   \n",
       "3                   0                     0                     0   \n",
       "4                   0                     0                     0   \n",
       "\n",
       "   start_is_quarter_start  start_is_year_start  start_is_year_end  \\\n",
       "0                       0                    0                  0   \n",
       "1                       0                    0                  0   \n",
       "2                       0                    0                  0   \n",
       "3                       0                    0                  0   \n",
       "4                       0                    0                  0   \n",
       "\n",
       "   start_week_of_year  start_week_day  creation_is_month_end  \\\n",
       "0                  30               1                      0   \n",
       "1                  30               4                      0   \n",
       "2                  24               0                      0   \n",
       "3                  29               4                      0   \n",
       "4                  29               1                      0   \n",
       "\n",
       "   creation_is_month_start  creation_is_quarter_end  \\\n",
       "0                        0                        0   \n",
       "1                        0                        0   \n",
       "2                        0                        0   \n",
       "3                        0                        0   \n",
       "4                        0                        0   \n",
       "\n",
       "   creation_is_quarter_start  creation_is_year_start  creation_is_year_end  \\\n",
       "0                          0                       0                     0   \n",
       "1                          0                       0                     0   \n",
       "2                          0                       0                     0   \n",
       "3                          0                       0                     0   \n",
       "4                          0                       0                     0   \n",
       "\n",
       "   creation_week_of_year  creation_week_day  is_negative_euribor_rate  CHF  \\\n",
       "0                     30                  1                         0    0   \n",
       "1                     30                  4                         0    0   \n",
       "2                     31                  0                         0    0   \n",
       "3                     31                  0                         0    0   \n",
       "4                     31                  0                         0    0   \n",
       "\n",
       "   EUR  GBP  JPY  USD  is_negative_libor_rate_rate  is_hedge_missing  \\\n",
       "0    0    0    0    1                            0                 1   \n",
       "1    0    0    0    1                            0                 1   \n",
       "2    0    0    0    1                            0                 1   \n",
       "3    0    0    0    1                            0                 1   \n",
       "4    0    0    0    1                            0                 1   \n",
       "\n",
       "   pf_category0  pf_category1  pf_category2  pf_category3  country_code0  \\\n",
       "0             1             0             0             0              0   \n",
       "1             0             1             0             0              0   \n",
       "2             1             0             0             0              0   \n",
       "3             1             0             0             0              0   \n",
       "4             1             0             0             0              0   \n",
       "\n",
       "   country_code1  country_code2  country_code3  country_code4  office_id0  \\\n",
       "0              0              1              0              0           1   \n",
       "1              0              1              0              0           0   \n",
       "2              0              1              0              0           1   \n",
       "3              0              1              0              0           1   \n",
       "4              0              1              0              0           1   \n",
       "\n",
       "   office_id1  indicator_code0  indicator_code1  type0  type1  type2  type3  \\\n",
       "0           0                1                0      1      0      0      0   \n",
       "1           1                1                0      0      1      0      0   \n",
       "2           0                1                0      1      0      0      0   \n",
       "3           0                1                0      1      0      0      0   \n",
       "4           0                1                0      1      0      0      0   \n",
       "\n",
       "   type4  type5  type6  hedge_value0  hedge_value1  hedge_value2  status0  \\\n",
       "0      0      0      0             0             0             1        1   \n",
       "1      0      0      0             0             0             1        1   \n",
       "2      0      0      0             0             0             1        1   \n",
       "3      0      0      0             0             0             1        1   \n",
       "4      0      0      0             0             0             1        1   \n",
       "\n",
       "   status1  \n",
       "0        0  \n",
       "1        0  \n",
       "2        0  \n",
       "3        0  \n",
       "4        0  "
      ]
     },
     "execution_count": 86,
     "metadata": {},
     "output_type": "execute_result"
    }
   ],
   "source": [
    "test.head()"
   ]
  },
  {
   "cell_type": "code",
   "execution_count": null,
   "metadata": {
    "collapsed": true
   },
   "outputs": [],
   "source": []
  },
  {
   "cell_type": "code",
   "execution_count": 87,
   "metadata": {
    "collapsed": true
   },
   "outputs": [],
   "source": [
    "final = RandomForestRegressor(bootstrap=True, criterion='mse', max_depth=None,\n",
    "           max_leaf_nodes=None,\n",
    "           min_impurity_decrease=0.0, min_impurity_split=None,\n",
    "           min_samples_leaf=50, min_samples_split=2,\n",
    "           min_weight_fraction_leaf=0.0, n_estimators=700, n_jobs=-1,\n",
    "           oob_score=False, random_state=573869792, verbose=0, warm_start=False)"
   ]
  },
  {
   "cell_type": "code",
   "execution_count": 88,
   "metadata": {
    "collapsed": true
   },
   "outputs": [],
   "source": [
    "x_train,y_train=train.drop(['portfolio_id','return'],1),train['return']"
   ]
  },
  {
   "cell_type": "code",
   "execution_count": 89,
   "metadata": {
    "collapsed": true
   },
   "outputs": [],
   "source": [
    "x_tr,x_ts,y_tr,y_ts=train_test_split(x_train,y_train,test_size=.2)"
   ]
  },
  {
   "cell_type": "code",
   "execution_count": 90,
   "metadata": {
    "collapsed": true
   },
   "outputs": [],
   "source": [
    "x_test=test.drop(['portfolio_id'],1)"
   ]
  },
  {
   "cell_type": "code",
   "execution_count": 91,
   "metadata": {},
   "outputs": [
    {
     "data": {
      "text/plain": [
       "RandomForestRegressor(bootstrap=True, criterion='mse', max_depth=None,\n",
       "           max_features='auto', max_leaf_nodes=None,\n",
       "           min_impurity_decrease=0.0, min_impurity_split=None,\n",
       "           min_samples_leaf=50, min_samples_split=2,\n",
       "           min_weight_fraction_leaf=0.0, n_estimators=700, n_jobs=-1,\n",
       "           oob_score=False, random_state=573869792, verbose=0,\n",
       "           warm_start=False)"
      ]
     },
     "execution_count": 91,
     "metadata": {},
     "output_type": "execute_result"
    }
   ],
   "source": [
    "final.fit(x_tr,y_tr)"
   ]
  },
  {
   "cell_type": "code",
   "execution_count": 92,
   "metadata": {},
   "outputs": [
    {
     "data": {
      "text/plain": [
       "0.94761318975718112"
      ]
     },
     "execution_count": 92,
     "metadata": {},
     "output_type": "execute_result"
    }
   ],
   "source": [
    "r2_score(y_ts,final.predict(x_ts))"
   ]
  },
  {
   "cell_type": "code",
   "execution_count": 49,
   "metadata": {
    "collapsed": true
   },
   "outputs": [],
   "source": [
    "y_pre=final.predict(x_test)"
   ]
  },
  {
   "cell_type": "code",
   "execution_count": 88,
   "metadata": {
    "collapsed": true
   },
   "outputs": [],
   "source": [
    "sub=pd.DataFrame()\n",
    "# pred = clf1_2.predict(dtest)\n",
    "## make submission\n",
    "sub['portfolio_id']=pd.read_csv('../Data/cleaned_test.csv')['portfolio_id']\n",
    "sub['return'] = y_pre\n",
    "sub.to_csv('../Submissions/rf2.csv', index=False)\n"
   ]
  },
  {
   "cell_type": "code",
   "execution_count": 55,
   "metadata": {},
   "outputs": [
    {
     "data": {
      "text/plain": [
       "array([ 0.02677998,  0.02484465,  0.02552255, ...,  0.00617708,\n",
       "        0.00553929,  0.00614991])"
      ]
     },
     "execution_count": 55,
     "metadata": {},
     "output_type": "execute_result"
    }
   ],
   "source": [
    "y_pre"
   ]
  },
  {
   "cell_type": "markdown",
   "metadata": {},
   "source": [
    "# Extra Tree regression"
   ]
  },
  {
   "cell_type": "code",
   "execution_count": 93,
   "metadata": {
    "collapsed": true
   },
   "outputs": [],
   "source": [
    "from sklearn.ensemble import ExtraTreesRegressor"
   ]
  },
  {
   "cell_type": "code",
   "execution_count": 94,
   "metadata": {
    "collapsed": true,
    "scrolled": false
   },
   "outputs": [],
   "source": [
    "# for i in [400,500,600,700,800,1000,1200]:\n",
    "#     for j in [2,3,4,5,7,10,13,15,20,25,30,50,60]:\n",
    "#             clf=ExtraTreesRegressor(min_samples_leaf=j,n_estimators=i,n_jobs=-1,random_state=52525521)\n",
    "#             clf.fit(x_tr,y_tr)\n",
    "#             print(i,'  ',j,'  ',r2_score(y_ts,clf.predict(x_ts)))"
   ]
  },
  {
   "cell_type": "code",
   "execution_count": 152,
   "metadata": {
    "collapsed": true
   },
   "outputs": [],
   "source": [
    "clf=ExtraTreesRegressor(min_samples_leaf=5,n_estimators=600,n_jobs=-1,random_state=False)"
   ]
  },
  {
   "cell_type": "code",
   "execution_count": 153,
   "metadata": {},
   "outputs": [
    {
     "data": {
      "text/plain": [
       "ExtraTreesRegressor(bootstrap=False, criterion='mse', max_depth=None,\n",
       "          max_features='auto', max_leaf_nodes=None,\n",
       "          min_impurity_decrease=0.0, min_impurity_split=None,\n",
       "          min_samples_leaf=5, min_samples_split=2,\n",
       "          min_weight_fraction_leaf=0.0, n_estimators=600, n_jobs=-1,\n",
       "          oob_score=False, random_state=False, verbose=0, warm_start=False)"
      ]
     },
     "execution_count": 153,
     "metadata": {},
     "output_type": "execute_result"
    }
   ],
   "source": [
    "clf.fit(x_train,y_train)"
   ]
  },
  {
   "cell_type": "code",
   "execution_count": 154,
   "metadata": {
    "collapsed": true
   },
   "outputs": [],
   "source": [
    "y_prdct=clf.predict(x_test)"
   ]
  },
  {
   "cell_type": "code",
   "execution_count": 155,
   "metadata": {
    "collapsed": true
   },
   "outputs": [],
   "source": [
    "# r2_score(y_ts,y_prdct)"
   ]
  },
  {
   "cell_type": "code",
   "execution_count": 156,
   "metadata": {
    "collapsed": true
   },
   "outputs": [],
   "source": [
    "sub=pd.DataFrame()\n",
    "# pred = clf1_2.predict(dtest)\n",
    "## make submission\n",
    "sub['portfolio_id']=pd.read_csv('../Data/cleaned_test.csv')['portfolio_id']\n",
    "sub['return'] = y_prdct\n",
    "sub.to_csv('../Submissions/et7.csv', index=False)\n"
   ]
  },
  {
   "cell_type": "markdown",
   "metadata": {},
   "source": [
    "# XGBoost"
   ]
  },
  {
   "cell_type": "code",
   "execution_count": 157,
   "metadata": {
    "collapsed": true
   },
   "outputs": [],
   "source": [
    "import xgboost as xgb"
   ]
  },
  {
   "cell_type": "code",
   "execution_count": 165,
   "metadata": {
    "collapsed": true
   },
   "outputs": [],
   "source": [
    "dtrain = xgb.DMatrix(data=x_train, label=y_train)\n",
    "# dtrain = xgb.DMatrix(data=x_tr, label=y_tr)\n",
    "dvalid = xgb.DMatrix(data=x_ts,label=y_ts)\n",
    "dtest = xgb.DMatrix(data=x_test)"
   ]
  },
  {
   "cell_type": "code",
   "execution_count": 166,
   "metadata": {
    "collapsed": true
   },
   "outputs": [],
   "source": [
    "params = {}\n",
    "params['objective'] = 'reg:linear'\n",
    "params['eta'] = 0.005\n",
    "params['silent'] = True\n",
    "params['max_depth'] = 8\n",
    "params['subsample'] = 0.8\n",
    "params['colsample_bytree'] = 0.9\n",
    "params['nthread']=-1\n",
    "params['eval_metric']='rmse'\n"
   ]
  },
  {
   "cell_type": "code",
   "execution_count": 167,
   "metadata": {
    "collapsed": true
   },
   "outputs": [],
   "source": [
    "watchlist = [(dtrain, 'train'),(dvalid, 'eval')]"
   ]
  },
  {
   "cell_type": "code",
   "execution_count": 164,
   "metadata": {
    "scrolled": false
   },
   "outputs": [
    {
     "name": "stdout",
     "output_type": "stream",
     "text": [
      "[0]\ttrain-rmse:0.485142\teval-rmse:0.485114\n",
      "Multiple eval metrics have been passed: 'eval-rmse' will be used for early stopping.\n",
      "\n",
      "Will train until eval-rmse hasn't improved in 260 rounds.\n",
      "[50]\ttrain-rmse:0.428147\teval-rmse:0.428119\n",
      "[100]\ttrain-rmse:0.377857\teval-rmse:0.377822\n",
      "[150]\ttrain-rmse:0.333484\teval-rmse:0.333438\n",
      "[200]\ttrain-rmse:0.294331\teval-rmse:0.294275\n",
      "[250]\ttrain-rmse:0.259785\teval-rmse:0.259716\n",
      "[300]\ttrain-rmse:0.229309\teval-rmse:0.229221\n",
      "[350]\ttrain-rmse:0.202422\teval-rmse:0.202308\n",
      "[400]\ttrain-rmse:0.1787\teval-rmse:0.178551\n",
      "[450]\ttrain-rmse:0.157776\teval-rmse:0.15759\n",
      "[500]\ttrain-rmse:0.13932\teval-rmse:0.139093\n",
      "[550]\ttrain-rmse:0.123046\teval-rmse:0.122776\n",
      "[600]\ttrain-rmse:0.108694\teval-rmse:0.10838\n",
      "[650]\ttrain-rmse:0.096044\teval-rmse:0.095679\n",
      "[700]\ttrain-rmse:0.084895\teval-rmse:0.084475\n",
      "[750]\ttrain-rmse:0.075061\teval-rmse:0.074592\n",
      "[800]\ttrain-rmse:0.06639\teval-rmse:0.06587\n",
      "[850]\ttrain-rmse:0.058744\teval-rmse:0.058182\n",
      "[900]\ttrain-rmse:0.052004\teval-rmse:0.051399\n",
      "[950]\ttrain-rmse:0.046073\teval-rmse:0.045417\n",
      "[1000]\ttrain-rmse:0.040849\teval-rmse:0.04014\n",
      "[1050]\ttrain-rmse:0.036246\teval-rmse:0.035487\n",
      "[1100]\ttrain-rmse:0.0322\teval-rmse:0.031382\n",
      "[1150]\ttrain-rmse:0.028608\teval-rmse:0.02777\n",
      "[1200]\ttrain-rmse:0.025445\teval-rmse:0.024582\n",
      "[1250]\ttrain-rmse:0.022667\teval-rmse:0.021772\n",
      "[1300]\ttrain-rmse:0.020212\teval-rmse:0.019308\n",
      "[1350]\ttrain-rmse:0.018041\teval-rmse:0.017138\n",
      "[1400]\ttrain-rmse:0.016131\teval-rmse:0.015232\n",
      "[1450]\ttrain-rmse:0.014452\teval-rmse:0.013556\n",
      "[1500]\ttrain-rmse:0.012981\teval-rmse:0.012087\n",
      "[1550]\ttrain-rmse:0.011671\teval-rmse:0.010805\n",
      "[1600]\ttrain-rmse:0.010534\teval-rmse:0.009686\n",
      "[1650]\ttrain-rmse:0.009534\teval-rmse:0.008711\n",
      "[1700]\ttrain-rmse:0.008659\teval-rmse:0.007871\n",
      "[1750]\ttrain-rmse:0.007884\teval-rmse:0.007157\n",
      "[1800]\ttrain-rmse:0.00719\teval-rmse:0.006551\n",
      "[1850]\ttrain-rmse:0.006591\teval-rmse:0.006029\n",
      "[1900]\ttrain-rmse:0.006064\teval-rmse:0.005602\n",
      "[1950]\ttrain-rmse:0.00561\teval-rmse:0.00524\n",
      "[2000]\ttrain-rmse:0.005208\teval-rmse:0.004947\n",
      "[2050]\ttrain-rmse:0.004837\teval-rmse:0.004711\n",
      "[2100]\ttrain-rmse:0.004537\teval-rmse:0.004512\n",
      "[2150]\ttrain-rmse:0.004263\teval-rmse:0.004362\n",
      "[2200]\ttrain-rmse:0.004037\teval-rmse:0.004226\n",
      "[2250]\ttrain-rmse:0.003827\teval-rmse:0.004129\n",
      "[2300]\ttrain-rmse:0.003637\teval-rmse:0.004064\n",
      "[2350]\ttrain-rmse:0.003479\teval-rmse:0.004008\n",
      "[2400]\ttrain-rmse:0.003319\teval-rmse:0.003969\n",
      "[2450]\ttrain-rmse:0.003181\teval-rmse:0.003951\n",
      "[2500]\ttrain-rmse:0.003059\teval-rmse:0.003945\n",
      "[2550]\ttrain-rmse:0.002956\teval-rmse:0.003929\n",
      "[2600]\ttrain-rmse:0.00286\teval-rmse:0.003914\n",
      "[2650]\ttrain-rmse:0.002767\teval-rmse:0.003916\n",
      "[2700]\ttrain-rmse:0.002685\teval-rmse:0.003921\n",
      "[2750]\ttrain-rmse:0.002609\teval-rmse:0.003922\n",
      "[2800]\ttrain-rmse:0.002525\teval-rmse:0.003931\n",
      "[2850]\ttrain-rmse:0.002459\teval-rmse:0.00394\n",
      "[2900]\ttrain-rmse:0.002393\teval-rmse:0.003942\n",
      "Stopping. Best iteration:\n",
      "[2667]\ttrain-rmse:0.002741\teval-rmse:0.003909\n",
      "\n"
     ]
    }
   ],
   "source": [
    "clf1_1 = xgb.train(params, dtrain, 20000, watchlist, maximize=False, verbose_eval=50, early_stopping_rounds=260)"
   ]
  },
  {
   "cell_type": "code",
   "execution_count": 168,
   "metadata": {
    "collapsed": true
   },
   "outputs": [],
   "source": [
    "clf1_2 = xgb.train(params, dtrain, 1200)"
   ]
  },
  {
   "cell_type": "code",
   "execution_count": null,
   "metadata": {
    "collapsed": true
   },
   "outputs": [],
   "source": []
  },
  {
   "cell_type": "code",
   "execution_count": null,
   "metadata": {
    "collapsed": true
   },
   "outputs": [],
   "source": []
  },
  {
   "cell_type": "code",
   "execution_count": 169,
   "metadata": {
    "collapsed": true
   },
   "outputs": [],
   "source": [
    "sub=pd.DataFrame()\n",
    "pred = clf1_1.predict(dtest)\n",
    "## make submission\n",
    "sub['portfolio_id']=pd.read_csv('../Data/cleaned_test.csv')['portfolio_id']\n",
    "sub['return'] = pred\n",
    "sub.to_csv('../Submissions/xgb76d.csv', index=False)\n"
   ]
  },
  {
   "cell_type": "markdown",
   "metadata": {
    "collapsed": true
   },
   "source": [
    "# Ridge regression"
   ]
  },
  {
   "cell_type": "code",
   "execution_count": 106,
   "metadata": {
    "collapsed": true
   },
   "outputs": [],
   "source": [
    "from sklearn.linear_model import Ridge"
   ]
  },
  {
   "cell_type": "code",
   "execution_count": 107,
   "metadata": {
    "collapsed": true
   },
   "outputs": [],
   "source": [
    "clf=Ridge(alpha=0.025, fit_intercept=False, normalize=True, copy_X=True, \n",
    "          max_iter=800, tol=0.01, solver='auto', random_state=64683725)"
   ]
  },
  {
   "cell_type": "code",
   "execution_count": 108,
   "metadata": {},
   "outputs": [
    {
     "data": {
      "text/plain": [
       "Ridge(alpha=0.025, copy_X=True, fit_intercept=False, max_iter=800,\n",
       "   normalize=True, random_state=64683725, solver='auto', tol=0.01)"
      ]
     },
     "execution_count": 108,
     "metadata": {},
     "output_type": "execute_result"
    }
   ],
   "source": [
    "clf.fit(x_tr,y_tr)"
   ]
  },
  {
   "cell_type": "code",
   "execution_count": 109,
   "metadata": {
    "collapsed": true
   },
   "outputs": [],
   "source": [
    "y_pr=clf.predict(x_ts)"
   ]
  },
  {
   "cell_type": "code",
   "execution_count": 110,
   "metadata": {},
   "outputs": [
    {
     "data": {
      "text/plain": [
       "0.92873252820248176"
      ]
     },
     "execution_count": 110,
     "metadata": {},
     "output_type": "execute_result"
    }
   ],
   "source": [
    "r2_score(y_ts,y_pr)"
   ]
  },
  {
   "cell_type": "markdown",
   "metadata": {},
   "source": [
    "# Lasso"
   ]
  },
  {
   "cell_type": "code",
   "execution_count": 111,
   "metadata": {
    "collapsed": true
   },
   "outputs": [],
   "source": [
    "from sklearn.linear_model import ElasticNet"
   ]
  },
  {
   "cell_type": "code",
   "execution_count": 112,
   "metadata": {
    "collapsed": true
   },
   "outputs": [],
   "source": [
    "clf=ElasticNet(alpha=0.00001, fit_intercept=False, normalize=True, \n",
    "                   copy_X=True, max_iter=800, tol=0.001, warm_start=False, \n",
    "                   random_state=None, selection='cyclic')"
   ]
  },
  {
   "cell_type": "code",
   "execution_count": 113,
   "metadata": {},
   "outputs": [
    {
     "name": "stderr",
     "output_type": "stream",
     "text": [
      "C:\\ProgramData\\Anaconda3\\lib\\site-packages\\sklearn\\linear_model\\coordinate_descent.py:491: ConvergenceWarning: Objective did not converge. You might want to increase the number of iterations. Fitting data with very small alpha may cause precision problems.\n",
      "  ConvergenceWarning)\n"
     ]
    },
    {
     "data": {
      "text/plain": [
       "ElasticNet(alpha=1e-05, copy_X=True, fit_intercept=False, l1_ratio=0.5,\n",
       "      max_iter=800, normalize=True, positive=False, precompute=False,\n",
       "      random_state=None, selection='cyclic', tol=0.001, warm_start=False)"
      ]
     },
     "execution_count": 113,
     "metadata": {},
     "output_type": "execute_result"
    }
   ],
   "source": [
    "clf.fit(x_tr,y_tr)"
   ]
  },
  {
   "cell_type": "code",
   "execution_count": 114,
   "metadata": {
    "collapsed": true
   },
   "outputs": [],
   "source": [
    "y_pr=clf.predict(x_ts)"
   ]
  },
  {
   "cell_type": "code",
   "execution_count": 115,
   "metadata": {},
   "outputs": [
    {
     "data": {
      "text/plain": [
       "0.92348178854505536"
      ]
     },
     "execution_count": 115,
     "metadata": {},
     "output_type": "execute_result"
    }
   ],
   "source": [
    "r2_score(y_ts,y_pr)"
   ]
  },
  {
   "cell_type": "markdown",
   "metadata": {},
   "source": [
    "# SVM"
   ]
  },
  {
   "cell_type": "code",
   "execution_count": 116,
   "metadata": {
    "collapsed": true
   },
   "outputs": [],
   "source": [
    "from sklearn.svm import SVR"
   ]
  },
  {
   "cell_type": "code",
   "execution_count": 117,
   "metadata": {
    "collapsed": true
   },
   "outputs": [],
   "source": [
    "clf=SVR(kernel='rbf', degree=2, gamma='auto', coef0=0.0, tol=0.001, \n",
    "        C=0.1, epsilon=0.001, shrinking=True, cache_size=200, verbose=False, max_iter=400)"
   ]
  },
  {
   "cell_type": "code",
   "execution_count": 118,
   "metadata": {},
   "outputs": [
    {
     "name": "stderr",
     "output_type": "stream",
     "text": [
      "C:\\ProgramData\\Anaconda3\\lib\\site-packages\\sklearn\\svm\\base.py:218: ConvergenceWarning: Solver terminated early (max_iter=400).  Consider pre-processing your data with StandardScaler or MinMaxScaler.\n",
      "  % self.max_iter, ConvergenceWarning)\n"
     ]
    },
    {
     "data": {
      "text/plain": [
       "SVR(C=0.1, cache_size=200, coef0=0.0, degree=2, epsilon=0.001, gamma='auto',\n",
       "  kernel='rbf', max_iter=400, shrinking=True, tol=0.001, verbose=False)"
      ]
     },
     "execution_count": 118,
     "metadata": {},
     "output_type": "execute_result"
    }
   ],
   "source": [
    "clf.fit(x_tr,y_tr)"
   ]
  },
  {
   "cell_type": "code",
   "execution_count": 119,
   "metadata": {
    "collapsed": true
   },
   "outputs": [],
   "source": [
    "y_pre=clf.predict(x_ts)"
   ]
  },
  {
   "cell_type": "code",
   "execution_count": 120,
   "metadata": {},
   "outputs": [
    {
     "data": {
      "text/plain": [
       "-0.80035454174802867"
      ]
     },
     "execution_count": 120,
     "metadata": {},
     "output_type": "execute_result"
    }
   ],
   "source": [
    "r2_score(y_ts,y_pre)"
   ]
  },
  {
   "cell_type": "code",
   "execution_count": null,
   "metadata": {
    "collapsed": true
   },
   "outputs": [],
   "source": []
  },
  {
   "cell_type": "code",
   "execution_count": 121,
   "metadata": {
    "collapsed": true
   },
   "outputs": [],
   "source": [
    "# x_train=sc.fit_transform(x_train)"
   ]
  },
  {
   "cell_type": "code",
   "execution_count": 122,
   "metadata": {
    "collapsed": true
   },
   "outputs": [],
   "source": [
    "# x_test=sc.transform(x_test)"
   ]
  },
  {
   "cell_type": "markdown",
   "metadata": {},
   "source": [
    "# sklearn XGB"
   ]
  },
  {
   "cell_type": "code",
   "execution_count": 123,
   "metadata": {
    "collapsed": true
   },
   "outputs": [],
   "source": [
    "import xgboost as xgb"
   ]
  },
  {
   "cell_type": "code",
   "execution_count": 124,
   "metadata": {
    "collapsed": true
   },
   "outputs": [],
   "source": [
    "clf=xgb.XGBRegressor(objective='reg:linear',learning_rate=.007,n_estimators=1400,\n",
    "                     max_depth=6,seed=52526161,subsample=.8,nthread=-1)"
   ]
  },
  {
   "cell_type": "code",
   "execution_count": 125,
   "metadata": {},
   "outputs": [
    {
     "data": {
      "text/plain": [
       "XGBRegressor(base_score=0.5, colsample_bylevel=1, colsample_bytree=1, gamma=0,\n",
       "       learning_rate=0.007, max_delta_step=0, max_depth=6,\n",
       "       min_child_weight=1, missing=None, n_estimators=1400, nthread=-1,\n",
       "       objective='reg:linear', reg_alpha=0, reg_lambda=1,\n",
       "       scale_pos_weight=1, seed=52526161, silent=True, subsample=0.8)"
      ]
     },
     "execution_count": 125,
     "metadata": {},
     "output_type": "execute_result"
    }
   ],
   "source": [
    "clf.fit(x_tr,y_tr)"
   ]
  },
  {
   "cell_type": "code",
   "execution_count": 126,
   "metadata": {
    "collapsed": true
   },
   "outputs": [],
   "source": [
    "y_pre=clf.predict(x_ts)"
   ]
  },
  {
   "cell_type": "code",
   "execution_count": 127,
   "metadata": {},
   "outputs": [
    {
     "data": {
      "text/plain": [
       "0.94928275303601684"
      ]
     },
     "execution_count": 127,
     "metadata": {},
     "output_type": "execute_result"
    }
   ],
   "source": [
    "r2_score(y_ts,y_pre)"
   ]
  },
  {
   "cell_type": "code",
   "execution_count": 441,
   "metadata": {
    "collapsed": true
   },
   "outputs": [],
   "source": [
    "sub=pd.DataFrame()\n",
    "pred = clf.predict(x_test)\n",
    "## make submission\n",
    "sub['portfolio_id']=pd.read_csv('../Data/cleaned_test.csv')['portfolio_id']\n",
    "sub['return'] = pred\n",
    "sub.to_csv('../Submissions/xgbsk.csv', index=False)\n"
   ]
  },
  {
   "cell_type": "code",
   "execution_count": null,
   "metadata": {
    "collapsed": true
   },
   "outputs": [],
   "source": []
  },
  {
   "cell_type": "code",
   "execution_count": null,
   "metadata": {
    "collapsed": true
   },
   "outputs": [],
   "source": []
  }
 ],
 "metadata": {
  "kernelspec": {
   "display_name": "Python 3",
   "language": "python",
   "name": "python3"
  },
  "language_info": {
   "codemirror_mode": {
    "name": "ipython",
    "version": 3
   },
   "file_extension": ".py",
   "mimetype": "text/x-python",
   "name": "python",
   "nbconvert_exporter": "python",
   "pygments_lexer": "ipython3",
   "version": "3.6.2"
  }
 },
 "nbformat": 4,
 "nbformat_minor": 2
}
